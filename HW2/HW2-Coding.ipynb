{
 "cells": [
  {
   "cell_type": "markdown",
   "metadata": {},
   "source": [
    "# Homework 2 Coding: Logistic Regression.\n",
    "  Please export this jupyter notebook as PDF, and hand in .pdf (with writing part) file.\n",
    "\n",
    "In this part of homework, you need to implement Logistic Regression using Python in this jupyter notebook."
   ]
  },
  {
   "cell_type": "markdown",
   "metadata": {},
   "source": [
    "## Part 0: Preparation before training."
   ]
  },
  {
   "cell_type": "markdown",
   "metadata": {},
   "source": [
    "This part loads the necessary libraries and dataset. You are only required to do the normalization by yourself."
   ]
  },
  {
   "cell_type": "code",
   "execution_count": null,
   "metadata": {},
   "outputs": [
    {
     "ename": "",
     "evalue": "",
     "output_type": "error",
     "traceback": [
      "\u001B[1;31mJupyter cannot be started. Error attempting to locate Jupyter: Running cells with 'Python 3.10.4 64-bit' requires jupyter and notebook package.\n",
      "\u001B[1;31mRun the following command to install 'jupyter and notebook' into the Python environment. \n",
      "\u001B[1;31mCommand: 'python -m pip install jupyter notebook -U\n",
      "\u001B[1;31mor\n",
      "\u001B[1;31mconda install jupyter notebook -U'\n",
      "\u001B[1;31mClick <a href='https://aka.ms/installJupyterForVSCode'>here</a> for more info."
     ]
    }
   ],
   "source": [
    "#import all the required libraries. You need to implement them in first.\n",
    "import pandas as pd\n",
    "from sklearn.datasets import load_breast_cancer\n",
    "import numpy as np\n",
    "from sklearn import preprocessing\n",
    "from sklearn.linear_model import LogisticRegression\n",
    "from sklearn.model_selection import train_test_split\n",
    "import matplotlib.pyplot as plt\n",
    "from sklearn.metrics import confusion_matrix\n",
    "import seaborn as sns"
   ]
  },
  {
   "cell_type": "code",
   "execution_count": null,
   "metadata": {},
   "outputs": [
    {
     "ename": "",
     "evalue": "",
     "output_type": "error",
     "traceback": [
      "\u001B[1;31mJupyter cannot be started. Error attempting to locate Jupyter: Running cells with 'Python 3.10.4 64-bit' requires jupyter and notebook package.\n",
      "\u001B[1;31mRun the following command to install 'jupyter and notebook' into the Python environment. \n",
      "\u001B[1;31mCommand: 'python -m pip install jupyter notebook -U\n",
      "\u001B[1;31mor\n",
      "\u001B[1;31mconda install jupyter notebook -U'\n",
      "\u001B[1;31mClick <a href='https://aka.ms/installJupyterForVSCode'>here</a> for more info."
     ]
    }
   ],
   "source": [
    "#Loading the dataset including features and binary labels\n",
    "data = load_breast_cancer().data\n",
    "target = load_breast_cancer().target"
   ]
  },
  {
   "cell_type": "code",
   "execution_count": null,
   "metadata": {},
   "outputs": [
    {
     "ename": "",
     "evalue": "",
     "output_type": "error",
     "traceback": [
      "\u001B[1;31mJupyter cannot be started. Error attempting to locate Jupyter: Running cells with 'Python 3.10.4 64-bit' requires jupyter and notebook package.\n",
      "\u001B[1;31mRun the following command to install 'jupyter and notebook' into the Python environment. \n",
      "\u001B[1;31mCommand: 'python -m pip install jupyter notebook -U\n",
      "\u001B[1;31mor\n",
      "\u001B[1;31mconda install jupyter notebook -U'\n",
      "\u001B[1;31mClick <a href='https://aka.ms/installJupyterForVSCode'>here</a> for more info."
     ]
    }
   ],
   "source": [
    "# Size of features and labels\n",
    "data.shape, target.shape"
   ]
  },
  {
   "cell_type": "code",
   "execution_count": null,
   "metadata": {},
   "outputs": [
    {
     "ename": "",
     "evalue": "",
     "output_type": "error",
     "traceback": [
      "\u001B[1;31mJupyter cannot be started. Error attempting to locate Jupyter: Running cells with 'Python 3.10.4 64-bit' requires jupyter and notebook package.\n",
      "\u001B[1;31mRun the following command to install 'jupyter and notebook' into the Python environment. \n",
      "\u001B[1;31mCommand: 'python -m pip install jupyter notebook -U\n",
      "\u001B[1;31mor\n",
      "\u001B[1;31mconda install jupyter notebook -U'\n",
      "\u001B[1;31mClick <a href='https://aka.ms/installJupyterForVSCode'>here</a> for more info."
     ]
    }
   ],
   "source": [
    "#Splitting the data into train and test sets 2:1 with certain random seed.\n",
    "X_train, X_test, y_train, y_test = train_test_split(data, target, test_size=0.33, random_state=42)"
   ]
  },
  {
   "cell_type": "markdown",
   "metadata": {},
   "source": [
    "Normalizing data (by yourself)\n"
   ]
  },
  {
   "cell_type": "code",
   "execution_count": null,
   "metadata": {},
   "outputs": [
    {
     "ename": "",
     "evalue": "",
     "output_type": "error",
     "traceback": [
      "\u001B[1;31mJupyter cannot be started. Error attempting to locate Jupyter: Running cells with 'Python 3.10.4 64-bit' requires jupyter and notebook package.\n",
      "\u001B[1;31mRun the following command to install 'jupyter and notebook' into the Python environment. \n",
      "\u001B[1;31mCommand: 'python -m pip install jupyter notebook -U\n",
      "\u001B[1;31mor\n",
      "\u001B[1;31mconda install jupyter notebook -U'\n",
      "\u001B[1;31mClick <a href='https://aka.ms/installJupyterForVSCode'>here</a> for more info."
     ]
    }
   ],
   "source": [
    "# A useful trick before training is to normalize all features to have mean 0 and unit variance first.\n",
    "# Please implement this by yourself rather than use sklearn.preprocessing.StandardScaler as the comment below.\n",
    "\"\"\"\n",
    "scaler = preprocessing.StandardScaler().fit(X_train)\n",
    "X_train = scaler.transform(X_train)\n",
    "X_test = scaler.transform(X_test)\n",
    "\"\"\"\n",
    "#Your codes below:\n",
    "mean = np.mean(X_train, axis=0)\n",
    "std = np.std(X_train, axis=0)\n",
    "X_train = (X_train - mean) / std\n",
    "X_test = (X_test - mean) / std"
   ]
  },
  {
   "cell_type": "markdown",
   "metadata": {},
   "source": [
    "Some helper functions are given below, you are free to use them or not in parts below."
   ]
  },
  {
   "cell_type": "code",
   "execution_count": null,
   "metadata": {},
   "outputs": [
    {
     "ename": "",
     "evalue": "",
     "output_type": "error",
     "traceback": [
      "\u001B[1;31mJupyter cannot be started. Error attempting to locate Jupyter: Running cells with 'Python 3.10.4 64-bit' requires jupyter and notebook package.\n",
      "\u001B[1;31mRun the following command to install 'jupyter and notebook' into the Python environment. \n",
      "\u001B[1;31mCommand: 'python -m pip install jupyter notebook -U\n",
      "\u001B[1;31mor\n",
      "\u001B[1;31mconda install jupyter notebook -U'\n",
      "\u001B[1;31mClick <a href='https://aka.ms/installJupyterForVSCode'>here</a> for more info."
     ]
    }
   ],
   "source": [
    "# Function to predict y of x with current weights\n",
    "def predict(x, w):\n",
    "    y_pred = []\n",
    "    for it in range(len(x)):\n",
    "        input = np.insert(x[it], 0, 1, axis=0)\n",
    "        y = (1 / (1 + np.exp(-(np.dot(w, input)))))\n",
    "        if y < 0.5:\n",
    "            y_pred.append(0)\n",
    "        else:\n",
    "            y_pred.append(1)\n",
    "    return np.array(y_pred)"
   ]
  },
  {
   "cell_type": "code",
   "execution_count": null,
   "metadata": {},
   "outputs": [
    {
     "ename": "",
     "evalue": "",
     "output_type": "error",
     "traceback": [
      "\u001B[1;31mJupyter cannot be started. Error attempting to locate Jupyter: Running cells with 'Python 3.10.4 64-bit' requires jupyter and notebook package.\n",
      "\u001B[1;31mRun the following command to install 'jupyter and notebook' into the Python environment. \n",
      "\u001B[1;31mCommand: 'python -m pip install jupyter notebook -U\n",
      "\u001B[1;31mor\n",
      "\u001B[1;31mconda install jupyter notebook -U'\n",
      "\u001B[1;31mClick <a href='https://aka.ms/installJupyterForVSCode'>here</a> for more info."
     ]
    }
   ],
   "source": [
    "#Function to calculate TPR,FPR,TNR and FNR to be included in confusion matrix\n",
    "def find_rates(mat):\n",
    "    mat2 = [(mat[0, 0]), (mat[1, 0]), (mat[0, 1]), (mat[1, 1])]\n",
    "    mat2 = np.reshape(mat2, (2, 2))\n",
    "    mat2 = pd.DataFrame(mat2, columns=[0, 1], index=[0, 1])\n",
    "    mat2.index.name = 'Predicted'\n",
    "    mat2.columns.name = 'Actual'\n",
    "    return mat2"
   ]
  },
  {
   "cell_type": "markdown",
   "metadata": {},
   "source": [
    "## Part 1: Implement Logistic Regression using sklearn."
   ]
  },
  {
   "cell_type": "markdown",
   "metadata": {},
   "source": [
    "In this part, you are firstly given an example Sklearn implementation of logistic regression. Play with them and then you should:\n",
    "1.  Explain the parameters and their effects in LogisticRegression().\n",
    "2.  Try different settings of parameters and show its performance as the example."
   ]
  },
  {
   "cell_type": "markdown",
   "metadata": {},
   "source": [
    "You can read official document from https://scikit-learn.org/stable/modules/generated/sklearn.linear_model.LogisticRegression.html"
   ]
  },
  {
   "cell_type": "code",
   "execution_count": null,
   "metadata": {},
   "outputs": [
    {
     "ename": "",
     "evalue": "",
     "output_type": "error",
     "traceback": [
      "\u001B[1;31mJupyter cannot be started. Error attempting to locate Jupyter: Running cells with 'Python 3.10.4 64-bit' requires jupyter and notebook package.\n",
      "\u001B[1;31mRun the following command to install 'jupyter and notebook' into the Python environment. \n",
      "\u001B[1;31mCommand: 'python -m pip install jupyter notebook -U\n",
      "\u001B[1;31mor\n",
      "\u001B[1;31mconda install jupyter notebook -U'\n",
      "\u001B[1;31mClick <a href='https://aka.ms/installJupyterForVSCode'>here</a> for more info."
     ]
    }
   ],
   "source": [
    "#Logistic regression using sklearn\n",
    "LRexample = LogisticRegression(penalty='l2', C=0.1, solver='liblinear')\n",
    "LRexample.fit(X_train, y_train)"
   ]
  },
  {
   "cell_type": "code",
   "execution_count": null,
   "metadata": {},
   "outputs": [
    {
     "ename": "",
     "evalue": "",
     "output_type": "error",
     "traceback": [
      "\u001B[1;31mJupyter cannot be started. Error attempting to locate Jupyter: Running cells with 'Python 3.10.4 64-bit' requires jupyter and notebook package.\n",
      "\u001B[1;31mRun the following command to install 'jupyter and notebook' into the Python environment. \n",
      "\u001B[1;31mCommand: 'python -m pip install jupyter notebook -U\n",
      "\u001B[1;31mor\n",
      "\u001B[1;31mconda install jupyter notebook -U'\n",
      "\u001B[1;31mClick <a href='https://aka.ms/installJupyterForVSCode'>here</a> for more info."
     ]
    }
   ],
   "source": [
    "# Predict on the test set\n",
    "y_pred_sklearn = LRexample.predict(X_test)"
   ]
  },
  {
   "cell_type": "code",
   "execution_count": null,
   "metadata": {},
   "outputs": [
    {
     "ename": "",
     "evalue": "",
     "output_type": "error",
     "traceback": [
      "\u001B[1;31mJupyter cannot be started. Error attempting to locate Jupyter: Running cells with 'Python 3.10.4 64-bit' requires jupyter and notebook package.\n",
      "\u001B[1;31mRun the following command to install 'jupyter and notebook' into the Python environment. \n",
      "\u001B[1;31mCommand: 'python -m pip install jupyter notebook -U\n",
      "\u001B[1;31mor\n",
      "\u001B[1;31mconda install jupyter notebook -U'\n",
      "\u001B[1;31mClick <a href='https://aka.ms/installJupyterForVSCode'>here</a> for more info."
     ]
    }
   ],
   "source": [
    "# The labels of ground-truth on test set.\n",
    "np.unique(y_test, return_counts=True)"
   ]
  },
  {
   "cell_type": "code",
   "execution_count": null,
   "metadata": {},
   "outputs": [
    {
     "ename": "",
     "evalue": "",
     "output_type": "error",
     "traceback": [
      "\u001B[1;31mJupyter cannot be started. Error attempting to locate Jupyter: Running cells with 'Python 3.10.4 64-bit' requires jupyter and notebook package.\n",
      "\u001B[1;31mRun the following command to install 'jupyter and notebook' into the Python environment. \n",
      "\u001B[1;31mCommand: 'python -m pip install jupyter notebook -U\n",
      "\u001B[1;31mor\n",
      "\u001B[1;31mconda install jupyter notebook -U'\n",
      "\u001B[1;31mClick <a href='https://aka.ms/installJupyterForVSCode'>here</a> for more info."
     ]
    }
   ],
   "source": [
    "# The labels produced by LR model on test set.\n",
    "np.unique(y_pred_sklearn, return_counts=True)"
   ]
  },
  {
   "cell_type": "code",
   "execution_count": null,
   "metadata": {},
   "outputs": [
    {
     "ename": "",
     "evalue": "",
     "output_type": "error",
     "traceback": [
      "\u001B[1;31mJupyter cannot be started. Error attempting to locate Jupyter: Running cells with 'Python 3.10.4 64-bit' requires jupyter and notebook package.\n",
      "\u001B[1;31mRun the following command to install 'jupyter and notebook' into the Python environment. \n",
      "\u001B[1;31mCommand: 'python -m pip install jupyter notebook -U\n",
      "\u001B[1;31mor\n",
      "\u001B[1;31mconda install jupyter notebook -U'\n",
      "\u001B[1;31mClick <a href='https://aka.ms/installJupyterForVSCode'>here</a> for more info."
     ]
    }
   ],
   "source": [
    "# true-negative, false-negative, false-negative, true-positive\n",
    "tn, fp, fn, tp = confusion_matrix(y_test, y_pred_sklearn).ravel()\n",
    "(tn, fp, fn, tp)"
   ]
  },
  {
   "cell_type": "code",
   "execution_count": null,
   "metadata": {},
   "outputs": [
    {
     "ename": "",
     "evalue": "",
     "output_type": "error",
     "traceback": [
      "\u001B[1;31mJupyter cannot be started. Error attempting to locate Jupyter: Running cells with 'Python 3.10.4 64-bit' requires jupyter and notebook package.\n",
      "\u001B[1;31mRun the following command to install 'jupyter and notebook' into the Python environment. \n",
      "\u001B[1;31mCommand: 'python -m pip install jupyter notebook -U\n",
      "\u001B[1;31mor\n",
      "\u001B[1;31mconda install jupyter notebook -U'\n",
      "\u001B[1;31mClick <a href='https://aka.ms/installJupyterForVSCode'>here</a> for more info."
     ]
    }
   ],
   "source": [
    "mat_test = find_rates(confusion_matrix(y_test, y_pred_sklearn))\n",
    "\n",
    "fig = plt.figure(figsize=(8, 6))\n",
    "plt.title('Confusion Matrix for test data using sklearn Logistic Regression')\n",
    "sns.heatmap(mat_test, annot=True, fmt='g')"
   ]
  },
  {
   "cell_type": "code",
   "execution_count": null,
   "metadata": {},
   "outputs": [
    {
     "ename": "",
     "evalue": "",
     "output_type": "error",
     "traceback": [
      "\u001B[1;31mJupyter cannot be started. Error attempting to locate Jupyter: Running cells with 'Python 3.10.4 64-bit' requires jupyter and notebook package.\n",
      "\u001B[1;31mRun the following command to install 'jupyter and notebook' into the Python environment. \n",
      "\u001B[1;31mCommand: 'python -m pip install jupyter notebook -U\n",
      "\u001B[1;31mor\n",
      "\u001B[1;31mconda install jupyter notebook -U'\n",
      "\u001B[1;31mClick <a href='https://aka.ms/installJupyterForVSCode'>here</a> for more info."
     ]
    }
   ],
   "source": [
    "LRexample.score(X_test, y_test)\n",
    "coef = LRexample.coef_[0].copy()"
   ]
  },
  {
   "cell_type": "markdown",
   "metadata": {},
   "source": [
    "Explain the parameters and their effects in LogisticRegression( ) in the Markdown cell below."
   ]
  },
  {
   "cell_type": "markdown",
   "metadata": {},
   "source": [
    "penalty='l2' means that we use l2 norm of all parameters $||\\mathbf{w}||_2^2$ to do regularization.\n",
    "C=0.1 means we set the regularization strength $\\lambda$ to $\\frac{1}{C}=10$ so that the the smaller C is, the larger the penalty is.\n",
    "solver='liblinear' means that we use coordinate descent algorithm to optimize the model."
   ]
  },
  {
   "cell_type": "markdown",
   "metadata": {},
   "source": [
    "Try different settings of Sklearn implementation of logistic regression and show the performance as the example above. Write your codes below. "
   ]
  },
  {
   "cell_type": "code",
   "execution_count": null,
   "metadata": {},
   "outputs": [
    {
     "ename": "",
     "evalue": "",
     "output_type": "error",
     "traceback": [
      "\u001B[1;31mJupyter cannot be started. Error attempting to locate Jupyter: Running cells with 'Python 3.10.4 64-bit' requires jupyter and notebook package.\n",
      "\u001B[1;31mRun the following command to install 'jupyter and notebook' into the Python environment. \n",
      "\u001B[1;31mCommand: 'python -m pip install jupyter notebook -U\n",
      "\u001B[1;31mor\n",
      "\u001B[1;31mconda install jupyter notebook -U'\n",
      "\u001B[1;31mClick <a href='https://aka.ms/installJupyterForVSCode'>here</a> for more info."
     ]
    }
   ],
   "source": [
    "LRexample = LogisticRegression(penalty='l1', C=0.1, solver='liblinear')\n",
    "LRexample.fit(X_train, y_train)\n",
    "# Predict on the test set\n",
    "y_pred_sklearn = LRexample.predict(X_test)\n",
    "# The labels of ground-truth on test set.\n",
    "np.unique(y_test, return_counts=True)\n",
    "# The labels produced by LR model on test set.\n",
    "np.unique(y_pred_sklearn, return_counts=True)\n",
    "# true-negative, false-negative, false-negative, true-positive\n",
    "tn, fp, fn, tp = confusion_matrix(y_test, y_pred_sklearn).ravel()\n",
    "print(f\"tn={tn},fp={fp},fn={fn},tp={tp}\")\n",
    "mat_test = find_rates(confusion_matrix(y_test, y_pred_sklearn))\n",
    "plt.title('Confusion Matrix for test data using sklearn Logistic Regression')\n",
    "sns.heatmap(mat_test, annot=True, fmt='g')\n",
    "print(f\"score={LRexample.score(X_test, y_test)}\")"
   ]
  },
  {
   "cell_type": "code",
   "execution_count": null,
   "metadata": {},
   "outputs": [
    {
     "ename": "",
     "evalue": "",
     "output_type": "error",
     "traceback": [
      "\u001B[1;31mJupyter cannot be started. Error attempting to locate Jupyter: Running cells with 'Python 3.10.4 64-bit' requires jupyter and notebook package.\n",
      "\u001B[1;31mRun the following command to install 'jupyter and notebook' into the Python environment. \n",
      "\u001B[1;31mCommand: 'python -m pip install jupyter notebook -U\n",
      "\u001B[1;31mor\n",
      "\u001B[1;31mconda install jupyter notebook -U'\n",
      "\u001B[1;31mClick <a href='https://aka.ms/installJupyterForVSCode'>here</a> for more info."
     ]
    }
   ],
   "source": [
    "LRexample = LogisticRegression(penalty='l1', C=1.0, solver='liblinear')\n",
    "LRexample.fit(X_train, y_train)\n",
    "# Predict on the test set\n",
    "y_pred_sklearn = LRexample.predict(X_test)\n",
    "# The labels of ground-truth on test set.\n",
    "np.unique(y_test, return_counts=True)\n",
    "# The labels produced by LR model on test set.\n",
    "np.unique(y_pred_sklearn, return_counts=True)\n",
    "# true-negative, false-negative, false-negative, true-positive\n",
    "tn, fp, fn, tp = confusion_matrix(y_test, y_pred_sklearn).ravel()\n",
    "print(f\"tn={tn},fp={fp},fn={fn},tp={tp}\")\n",
    "mat_test = find_rates(confusion_matrix(y_test, y_pred_sklearn))\n",
    "plt.title('Confusion Matrix for test data using sklearn Logistic Regression')\n",
    "sns.heatmap(mat_test, annot=True, fmt='g')\n",
    "print(f\"score={LRexample.score(X_test, y_test)}\")"
   ]
  },
  {
   "cell_type": "code",
   "execution_count": null,
   "metadata": {},
   "outputs": [
    {
     "ename": "",
     "evalue": "",
     "output_type": "error",
     "traceback": [
      "\u001B[1;31mJupyter cannot be started. Error attempting to locate Jupyter: Running cells with 'Python 3.10.4 64-bit' requires jupyter and notebook package.\n",
      "\u001B[1;31mRun the following command to install 'jupyter and notebook' into the Python environment. \n",
      "\u001B[1;31mCommand: 'python -m pip install jupyter notebook -U\n",
      "\u001B[1;31mor\n",
      "\u001B[1;31mconda install jupyter notebook -U'\n",
      "\u001B[1;31mClick <a href='https://aka.ms/installJupyterForVSCode'>here</a> for more info."
     ]
    }
   ],
   "source": [
    "LRexample = LogisticRegression(penalty='l2', C=1.0, solver='liblinear')\n",
    "LRexample.fit(X_train, y_train)\n",
    "# Predict on the test set\n",
    "y_pred_sklearn = LRexample.predict(X_test)\n",
    "# The labels of ground-truth on test set.\n",
    "np.unique(y_test, return_counts=True)\n",
    "# The labels produced by LR model on test set.\n",
    "np.unique(y_pred_sklearn, return_counts=True)\n",
    "# true-negative, false-negative, false-negative, true-positive\n",
    "tn, fp, fn, tp = confusion_matrix(y_test, y_pred_sklearn).ravel()\n",
    "print(f\"tn={tn},fp={fp},fn={fn},tp={tp}\")\n",
    "mat_test = find_rates(confusion_matrix(y_test, y_pred_sklearn))\n",
    "plt.title('Confusion Matrix for test data using sklearn Logistic Regression')\n",
    "sns.heatmap(mat_test, annot=True, fmt='g')\n",
    "print(f\"score={LRexample.score(X_test, y_test)}\")"
   ]
  },
  {
   "cell_type": "code",
   "execution_count": null,
   "metadata": {},
   "outputs": [
    {
     "ename": "",
     "evalue": "",
     "output_type": "error",
     "traceback": [
      "\u001B[1;31mJupyter cannot be started. Error attempting to locate Jupyter: Running cells with 'Python 3.10.4 64-bit' requires jupyter and notebook package.\n",
      "\u001B[1;31mRun the following command to install 'jupyter and notebook' into the Python environment. \n",
      "\u001B[1;31mCommand: 'python -m pip install jupyter notebook -U\n",
      "\u001B[1;31mor\n",
      "\u001B[1;31mconda install jupyter notebook -U'\n",
      "\u001B[1;31mClick <a href='https://aka.ms/installJupyterForVSCode'>here</a> for more info."
     ]
    }
   ],
   "source": [
    "LRexample = LogisticRegression(penalty='l2', C=0.1, solver='newton-cg')\n",
    "LRexample.fit(X_train, y_train)\n",
    "# Predict on the test set\n",
    "y_pred_sklearn = LRexample.predict(X_test)\n",
    "# The labels of ground-truth on test set.\n",
    "np.unique(y_test, return_counts=True)\n",
    "# The labels produced by LR model on test set.\n",
    "np.unique(y_pred_sklearn, return_counts=True)\n",
    "# true-negative, false-negative, false-negative, true-positive\n",
    "tn, fp, fn, tp = confusion_matrix(y_test, y_pred_sklearn).ravel()\n",
    "print(f\"tn={tn},fp={fp},fn={fn},tp={tp}\")\n",
    "mat_test = find_rates(confusion_matrix(y_test, y_pred_sklearn))\n",
    "plt.title('Confusion Matrix for test data using sklearn Logistic Regression')\n",
    "sns.heatmap(mat_test, annot=True, fmt='g')\n",
    "print(f\"score={LRexample.score(X_test, y_test)}\")"
   ]
  },
  {
   "cell_type": "markdown",
   "metadata": {},
   "source": [
    "## Part 2: Implement Logistic Regression without using its library. "
   ]
  },
  {
   "cell_type": "markdown",
   "metadata": {},
   "source": [
    "In this part, you need to implement Logistic regression model using Batch Gradient Descent and Stochastic Gradient Descent by yourself. The hyperparameters of the two algorithms are given and recommended. Notice that with given hyperparameters and random seeds, the weights obtained by BGD and SGD with momentum should be unique."
   ]
  },
  {
   "cell_type": "markdown",
   "metadata": {},
   "source": [
    "### Part 2.1: Implement logistic regression using Batch-GD"
   ]
  },
  {
   "cell_type": "markdown",
   "metadata": {},
   "source": [
    "Describe the Batch-GD algorithm in the Markdown cell below. You are free to use mathematical derivation or not."
   ]
  },
  {
   "cell_type": "markdown",
   "metadata": {},
   "source": [
    "Batch-Gradient-Descent algorithm means all training data are visible. For logistic regression problem with 2 classes, we assume each class follows the Bernoulli distribution. Then the likelihood is:\n",
    "$$L(\\mathbf{w}|\\mathcal{X})=\\prod_{t=1}^N(y^t)^{r^t}(1-y^t)^{1-r^t}$$\n",
    "And the regularized loss function is:\n",
    "$$E(\\mathbf{w}|\\mathcal{X})=-\\log{L(\\mathbf{w}|\\mathcal{X})}+\\frac{\\lambda}{2}||\\mathbf{w}||_2^2=-\\sum_t\\left[r^t\\log{y^t}+(1-r^t)\\log{(1-y^t)}\\right]+\\frac{\\lambda}{2}||\\mathbf{w}||_2^2$$\n",
    "where $y_i^t = sigmoid(\\mathbf{wx})$.\n",
    "Then the corresponding update rules for $\\mathbf{w}$ and $w_0$ are as following:\n",
    "$$\\Delta w_j=-\\eta\\frac{\\partial E}{\\partial w_j}=\\eta\\sum_t(r_j^t-y_j^t)x_j^t-\\eta\\lambda w_j,\\quad for\\ j=1,2\\cdots,d$$\n",
    "$$\\Delta w_0=-\\eta\\frac{\\partial E}{\\partial w_0}=\\eta\\sum_t(r^t-y^t)-\\eta\\lambda w_0$$\n",
    "$$w_j = w_j + \\Delta w_j$$\n",
    "$$w_0 = w_0 + \\Delta w_0$$"
   ]
  },
  {
   "cell_type": "code",
   "execution_count": null,
   "metadata": {
    "collapsed": false
   },
   "outputs": [
    {
     "ename": "",
     "evalue": "",
     "output_type": "error",
     "traceback": [
      "\u001B[1;31mJupyter cannot be started. Error attempting to locate Jupyter: Running cells with 'Python 3.10.4 64-bit' requires jupyter and notebook package.\n",
      "\u001B[1;31mRun the following command to install 'jupyter and notebook' into the Python environment. \n",
      "\u001B[1;31mCommand: 'python -m pip install jupyter notebook -U\n",
      "\u001B[1;31mor\n",
      "\u001B[1;31mconda install jupyter notebook -U'\n",
      "\u001B[1;31mClick <a href='https://aka.ms/installJupyterForVSCode'>here</a> for more info."
     ]
    }
   ],
   "source": [
    "\"\"\"\n",
    "At each iteration, train all the samples and update weights. The initialization point should be set to all-zero vector.\n",
    "\"\"\"\n",
    "n_iter = 50  # number of iterations\n",
    "reg = 0.01  # regularization parameter lambda\n",
    "r = 0.1  # learning rate\n",
    "N, d = X_train.shape\n",
    "w_BGD = np.zeros((d + 1))\n",
    "for j in range(n_iter):\n",
    "    delta = np.zeros((d + 1))\n",
    "    for it in range(N):\n",
    "        input = np.insert(X_train[it], 0, 1, axis=0)\n",
    "        y = 1 / (1 + np.exp(-np.dot(w_BGD, input)))\n",
    "        delta += (y_train[it] - y) * input\n",
    "    w_BGD += r * (delta - reg * w_BGD)"
   ]
  },
  {
   "cell_type": "code",
   "execution_count": null,
   "metadata": {},
   "outputs": [
    {
     "ename": "",
     "evalue": "",
     "output_type": "error",
     "traceback": [
      "\u001B[1;31mJupyter cannot be started. Error attempting to locate Jupyter: Running cells with 'Python 3.10.4 64-bit' requires jupyter and notebook package.\n",
      "\u001B[1;31mRun the following command to install 'jupyter and notebook' into the Python environment. \n",
      "\u001B[1;31mCommand: 'python -m pip install jupyter notebook -U\n",
      "\u001B[1;31mor\n",
      "\u001B[1;31mconda install jupyter notebook -U'\n",
      "\u001B[1;31mClick <a href='https://aka.ms/installJupyterForVSCode'>here</a> for more info."
     ]
    }
   ],
   "source": [
    "#Getting predictions for test datapoints\n",
    "y_pred_BGD = predict(X_test, w_BGD)"
   ]
  },
  {
   "cell_type": "code",
   "execution_count": null,
   "metadata": {},
   "outputs": [
    {
     "ename": "",
     "evalue": "",
     "output_type": "error",
     "traceback": [
      "\u001B[1;31mJupyter cannot be started. Error attempting to locate Jupyter: Running cells with 'Python 3.10.4 64-bit' requires jupyter and notebook package.\n",
      "\u001B[1;31mRun the following command to install 'jupyter and notebook' into the Python environment. \n",
      "\u001B[1;31mCommand: 'python -m pip install jupyter notebook -U\n",
      "\u001B[1;31mor\n",
      "\u001B[1;31mconda install jupyter notebook -U'\n",
      "\u001B[1;31mClick <a href='https://aka.ms/installJupyterForVSCode'>here</a> for more info."
     ]
    }
   ],
   "source": [
    "np.unique(y_test, return_counts=True)"
   ]
  },
  {
   "cell_type": "code",
   "execution_count": null,
   "metadata": {},
   "outputs": [
    {
     "ename": "",
     "evalue": "",
     "output_type": "error",
     "traceback": [
      "\u001B[1;31mJupyter cannot be started. Error attempting to locate Jupyter: Running cells with 'Python 3.10.4 64-bit' requires jupyter and notebook package.\n",
      "\u001B[1;31mRun the following command to install 'jupyter and notebook' into the Python environment. \n",
      "\u001B[1;31mCommand: 'python -m pip install jupyter notebook -U\n",
      "\u001B[1;31mor\n",
      "\u001B[1;31mconda install jupyter notebook -U'\n",
      "\u001B[1;31mClick <a href='https://aka.ms/installJupyterForVSCode'>here</a> for more info."
     ]
    }
   ],
   "source": [
    "np.unique(y_pred_BGD, return_counts=True)"
   ]
  },
  {
   "cell_type": "code",
   "execution_count": null,
   "metadata": {},
   "outputs": [
    {
     "ename": "",
     "evalue": "",
     "output_type": "error",
     "traceback": [
      "\u001B[1;31mJupyter cannot be started. Error attempting to locate Jupyter: Running cells with 'Python 3.10.4 64-bit' requires jupyter and notebook package.\n",
      "\u001B[1;31mRun the following command to install 'jupyter and notebook' into the Python environment. \n",
      "\u001B[1;31mCommand: 'python -m pip install jupyter notebook -U\n",
      "\u001B[1;31mor\n",
      "\u001B[1;31mconda install jupyter notebook -U'\n",
      "\u001B[1;31mClick <a href='https://aka.ms/installJupyterForVSCode'>here</a> for more info."
     ]
    }
   ],
   "source": [
    "# Draw confusion matrix\n",
    "mat_test = find_rates(confusion_matrix(y_test, y_pred_BGD))\n",
    "\n",
    "fig = plt.figure(figsize=(8, 6))\n",
    "plt.title('Confusion Matrix for test data using BGD Logistic Regression')\n",
    "sns.heatmap(mat_test, annot=True, fmt='g')"
   ]
  },
  {
   "cell_type": "markdown",
   "metadata": {},
   "source": [
    "### Part 2.2: Implement logistic regression using SGD with momentum"
   ]
  },
  {
   "cell_type": "markdown",
   "metadata": {},
   "source": [
    "In this part, you need to implement logistic regression using SGD method with momentum for accelerating training.\n",
    "Intuitively, the method tries to accelerate with keeping the 'momentum' by moving along a previous direction. You may find Chapter 8.3 \n",
    "helpful https://www.deeplearningbook.org/contents/optimization.html for more details with respect to SGD, momentum and\n",
    "more acceleration tricks. "
   ]
  },
  {
   "cell_type": "markdown",
   "metadata": {},
   "source": [
    "Describe the SGD with momentum algorithm in the Markdown cell below. You are free to use mathematical derivation or not."
   ]
  },
  {
   "cell_type": "markdown",
   "metadata": {},
   "source": [
    "SGD with momentum algorithm means only part of training data are visible and we use momentum to accelerate convergence. For logistic regression problem with 2 classes, we assume each class follows the Bernoulli distribution. Then the likelihood is:\n",
    "$$L(\\mathbf{w}|\\mathcal{X})=\\prod_{t=1}^M(y^t)^{r^t}(1-y^t)^{1-r^t}$$\n",
    "And the regularized loss function is:\n",
    "$$E(\\mathbf{w}|\\mathcal{X})=-\\frac{1}{M}\\log{L(\\mathbf{w},w_0|\\mathcal{X})}+\\frac{\\lambda}{2}||\\mathbf{w}||_2^2=-\\frac{1}{M}\\sum_t\\left[r^t\\log{y^t}+(1-r^t)\\log{(1-y^t)}\\right]+\\frac{\\lambda}{2}||\\mathbf{w}||_2^2$$\n",
    "where $y_i^t = sigmoid(\\mathbf{wx})$.\n",
    "Then the corresponding update rules for velocity $v$ and parameter $\\mathbf{w}$ are as following:\n",
    "$$\\Delta w_j=\\alpha \\Delta w_j-\\eta\\frac{\\partial E}{\\partial w_j}=\\alpha \\Delta w_j+\\eta\\frac{1}{M}\\sum_t(r_j^t-y_j^t)x_j^t-\\eta\\lambda w_j,\\quad for\\ j=1,2\\cdots,d$$\n",
    "$$\\Delta w_0=\\alpha \\Delta w_0-\\eta\\frac{\\partial E}{\\partial w_0}=\\alpha \\Delta w_0+\\eta\\frac{1}{M}\\sum_t(r^t-y^t)-\\eta\\lambda w_0$$\n",
    "$$w_j = w_j + \\Delta w_j$$\n",
    "$$w_0 = w_0 + \\Delta w_0$$"
   ]
  },
  {
   "cell_type": "code",
   "execution_count": null,
   "metadata": {},
   "outputs": [
    {
     "ename": "",
     "evalue": "",
     "output_type": "error",
     "traceback": [
      "\u001B[1;31mJupyter cannot be started. Error attempting to locate Jupyter: Running cells with 'Python 3.10.4 64-bit' requires jupyter and notebook package.\n",
      "\u001B[1;31mRun the following command to install 'jupyter and notebook' into the Python environment. \n",
      "\u001B[1;31mCommand: 'python -m pip install jupyter notebook -U\n",
      "\u001B[1;31mor\n",
      "\u001B[1;31mconda install jupyter notebook -U'\n",
      "\u001B[1;31mClick <a href='https://aka.ms/installJupyterForVSCode'>here</a> for more info."
     ]
    }
   ],
   "source": [
    "\"\"\"\n",
    "At each iteration, choose 20 samples randomly and compute dJ(theta)/d(theta) among \n",
    "those 20 samples then update the vector of weights with momentum. The initialization point should be set to all-zero vector.\n",
    "\n",
    "Note that the random seed at each iteration is given, do not modify it.\n",
    "\"\"\"\n",
    "n_iter = 50  # number of iterations\n",
    "reg = 0.01  # regularization parameter lambda\n",
    "r = 0.1  # learning rate\n",
    "momen = 0.5  # momentum rate\n",
    "sample_size = 20  # sample size for SGD\n",
    "N, d = X_train.shape\n",
    "w_SGD = np.zeros((d + 1))\n",
    "v = 0\n",
    "for j in range(n_iter):\n",
    "    np.random.seed(j)\n",
    "    idx = np.random.randint(X_train.shape[0], size=sample_size)\n",
    "    # Do NOT modify codes above, especially the random code.\n",
    "    # At each iteration, choose samples from X_train, y_train, with index idx.\n",
    "    # Your codes below:\n",
    "    delta = 0\n",
    "    for i in idx:\n",
    "        input = np.insert(X_train[i], 0, 1, axis=0)\n",
    "        y = 1 / (1 + np.exp(-np.dot(w_SGD, input)))\n",
    "        delta += r * (y_train[i] - y) * input\n",
    "    delta -= r * reg * w_SGD\n",
    "    delta += momen * v\n",
    "    v = delta\n",
    "    w_SGD += delta"
   ]
  },
  {
   "cell_type": "code",
   "execution_count": null,
   "metadata": {},
   "outputs": [
    {
     "ename": "",
     "evalue": "",
     "output_type": "error",
     "traceback": [
      "\u001B[1;31mJupyter cannot be started. Error attempting to locate Jupyter: Running cells with 'Python 3.10.4 64-bit' requires jupyter and notebook package.\n",
      "\u001B[1;31mRun the following command to install 'jupyter and notebook' into the Python environment. \n",
      "\u001B[1;31mCommand: 'python -m pip install jupyter notebook -U\n",
      "\u001B[1;31mor\n",
      "\u001B[1;31mconda install jupyter notebook -U'\n",
      "\u001B[1;31mClick <a href='https://aka.ms/installJupyterForVSCode'>here</a> for more info."
     ]
    }
   ],
   "source": [
    "#Getting predictions for test datapoints\n",
    "y_pred_SGD = predict(X_test, w_SGD)"
   ]
  },
  {
   "cell_type": "code",
   "execution_count": null,
   "metadata": {},
   "outputs": [
    {
     "ename": "",
     "evalue": "",
     "output_type": "error",
     "traceback": [
      "\u001B[1;31mJupyter cannot be started. Error attempting to locate Jupyter: Running cells with 'Python 3.10.4 64-bit' requires jupyter and notebook package.\n",
      "\u001B[1;31mRun the following command to install 'jupyter and notebook' into the Python environment. \n",
      "\u001B[1;31mCommand: 'python -m pip install jupyter notebook -U\n",
      "\u001B[1;31mor\n",
      "\u001B[1;31mconda install jupyter notebook -U'\n",
      "\u001B[1;31mClick <a href='https://aka.ms/installJupyterForVSCode'>here</a> for more info."
     ]
    }
   ],
   "source": [
    "np.unique(y_test, return_counts=True)"
   ]
  },
  {
   "cell_type": "code",
   "execution_count": null,
   "metadata": {},
   "outputs": [
    {
     "ename": "",
     "evalue": "",
     "output_type": "error",
     "traceback": [
      "\u001B[1;31mJupyter cannot be started. Error attempting to locate Jupyter: Running cells with 'Python 3.10.4 64-bit' requires jupyter and notebook package.\n",
      "\u001B[1;31mRun the following command to install 'jupyter and notebook' into the Python environment. \n",
      "\u001B[1;31mCommand: 'python -m pip install jupyter notebook -U\n",
      "\u001B[1;31mor\n",
      "\u001B[1;31mconda install jupyter notebook -U'\n",
      "\u001B[1;31mClick <a href='https://aka.ms/installJupyterForVSCode'>here</a> for more info."
     ]
    }
   ],
   "source": [
    "np.unique(y_pred_SGD, return_counts=True)"
   ]
  },
  {
   "cell_type": "code",
   "execution_count": null,
   "metadata": {},
   "outputs": [
    {
     "ename": "",
     "evalue": "",
     "output_type": "error",
     "traceback": [
      "\u001B[1;31mJupyter cannot be started. Error attempting to locate Jupyter: Running cells with 'Python 3.10.4 64-bit' requires jupyter and notebook package.\n",
      "\u001B[1;31mRun the following command to install 'jupyter and notebook' into the Python environment. \n",
      "\u001B[1;31mCommand: 'python -m pip install jupyter notebook -U\n",
      "\u001B[1;31mor\n",
      "\u001B[1;31mconda install jupyter notebook -U'\n",
      "\u001B[1;31mClick <a href='https://aka.ms/installJupyterForVSCode'>here</a> for more info."
     ]
    }
   ],
   "source": [
    "# Draw confusion matrix\n",
    "mat_test = find_rates(confusion_matrix(y_test, y_pred_SGD))\n",
    "\n",
    "fig = plt.figure(figsize=(8, 6))\n",
    "plt.title('Confusion Matrix for test data using SGD Logistic Regression')\n",
    "sns.heatmap(mat_test, annot=True, fmt='g')"
   ]
  },
  {
   "cell_type": "code",
   "execution_count": null,
   "metadata": {
    "scrolled": true
   },
   "outputs": [
    {
     "ename": "",
     "evalue": "",
     "output_type": "error",
     "traceback": [
      "\u001B[1;31mJupyter cannot be started. Error attempting to locate Jupyter: Running cells with 'Python 3.10.4 64-bit' requires jupyter and notebook package.\n",
      "\u001B[1;31mRun the following command to install 'jupyter and notebook' into the Python environment. \n",
      "\u001B[1;31mCommand: 'python -m pip install jupyter notebook -U\n",
      "\u001B[1;31mor\n",
      "\u001B[1;31mconda install jupyter notebook -U'\n",
      "\u001B[1;31mClick <a href='https://aka.ms/installJupyterForVSCode'>here</a> for more info."
     ]
    }
   ],
   "source": [
    "# Print a table to show every coefficient in vector w, and compute the absolute difference between coefficients of BGD and SGD with momentum methods.\n",
    "\n",
    "from prettytable import PrettyTable\n",
    "\n",
    "p = PrettyTable()\n",
    "p.title = 'Weights from both models'\n",
    "p.field_names = ['SKlearn', 'BGD', 'SGD', 'Difference']\n",
    "\n",
    "# You can directly run the code below to output the table or rewrite it.\n",
    "# Please remain five decimal places\n",
    "for i in range(1, 31):\n",
    "    p.add_row(['{:.5f}'.format(coef[i - 1]), '{:.5f}'.format(w_BGD[i]),\n",
    "               '{:.5f}'.format(w_SGD[i]), '{:.5f}'.format(abs(w_BGD[i] - w_SGD[i]))])\n",
    "print(p)\n",
    "# LRclf.coef_[0, i]"
   ]
  },
  {
   "cell_type": "code",
   "execution_count": null,
   "metadata": {
    "collapsed": false
   },
   "outputs": [
    {
     "ename": "",
     "evalue": "",
     "output_type": "error",
     "traceback": [
      "\u001B[1;31mJupyter cannot be started. Error attempting to locate Jupyter: Running cells with 'Python 3.10.4 64-bit' requires jupyter and notebook package.\n",
      "\u001B[1;31mRun the following command to install 'jupyter and notebook' into the Python environment. \n",
      "\u001B[1;31mCommand: 'python -m pip install jupyter notebook -U\n",
      "\u001B[1;31mor\n",
      "\u001B[1;31mconda install jupyter notebook -U'\n",
      "\u001B[1;31mClick <a href='https://aka.ms/installJupyterForVSCode'>here</a> for more info."
     ]
    }
   ],
   "source": []
  }
 ],
 "metadata": {
  "kernelspec": {
   "display_name": "Python 3.10.4 64-bit",
   "language": "python",
   "name": "python3"
  },
  "language_info": {
   "codemirror_mode": {
    "name": "ipython",
    "version": 3
   },
   "file_extension": ".py",
   "mimetype": "text/x-python",
   "name": "python",
   "nbconvert_exporter": "python",
   "pygments_lexer": "ipython3",
   "version": "3.10.4"
  },
  "vscode": {
   "interpreter": {
    "hash": "e7370f93d1d0cde622a1f8e1c04877d8463912d04d973331ad4851f04de6915a"
   }
  }
 },
 "nbformat": 4,
 "nbformat_minor": 2
}
