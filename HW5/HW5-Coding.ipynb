{
 "cells": [
  {
   "cell_type": "markdown",
   "metadata": {
    "colab_type": "text",
    "id": "Z_LTBtfMBvW_"
   },
   "source": [
    "# Homework 5: Convolutional neural network (30 points)\n"
   ]
  },
  {
   "cell_type": "markdown",
   "metadata": {},
   "source": [
    "In this part, you need to implement and train a convolutional neural network on the CIFAR-10 dataset with PyTorch.\n",
    "### What is PyTorch?\n",
    "\n",
    "PyTorch is a system for executing dynamic computational graphs over Tensor objects that behave similarly as numpy ndarray. It comes with a powerful automatic differentiation engine that removes the need for manual back-propagation. \n",
    "\n",
    "### Why?\n",
    "\n",
    "* Our code will now run on GPUs! Much faster training. When using a framework like PyTorch or TensorFlow you can harness the power of the GPU for your own custom neural network architectures without having to write CUDA code directly (which is beyond the scope of this class).\n",
    "* We want you to be ready to use one of these frameworks for your project so you can experiment more efficiently than if you were writing every feature you want to use by hand. \n",
    "* We want you to stand on the shoulders of giants! TensorFlow and PyTorch are both excellent frameworks that will make your lives a lot easier, and now that you understand their guts, you are free to use them :) \n",
    "* We want you to be exposed to the sort of deep learning code you might run into in academia or industry.\n",
    "## How can I learn PyTorch?\n",
    "\n",
    "Justin Johnson has made an excellent [tutorial](https://github.com/jcjohnson/pytorch-examples) for PyTorch. \n",
    "\n",
    "You can also find the detailed [API doc](http://pytorch.org/docs/stable/index.html) here. If you have other questions that are not addressed by the API docs, the [PyTorch forum](https://discuss.pytorch.org/) is a much better place to ask than StackOverflow."
   ]
  },
  {
   "cell_type": "markdown",
   "metadata": {
    "colab_type": "text",
    "id": "T33dD1e8tii2"
   },
   "source": [
    "Install PyTorch and Skorch."
   ]
  },
  {
   "cell_type": "code",
   "execution_count": 1,
   "metadata": {
    "colab": {
     "base_uri": "https://localhost:8080/",
     "height": 35
    },
    "colab_type": "code",
    "id": "pJB3VQYDCUmh",
    "outputId": "43ab27ff-b2fb-4f7b-f517-f2b029b18ba2"
   },
   "outputs": [],
   "source": [
    "# !pip install -q torch skorch torchvision torchtext"
   ]
  },
  {
   "cell_type": "code",
   "execution_count": 2,
   "metadata": {
    "colab": {
     "base_uri": "https://localhost:8080/",
     "height": 72
    },
    "colab_type": "code",
    "id": "3l_Dl6qxCXmv",
    "outputId": "c0bbb1f4-081a-464e-bf46-a34c2767e83a"
   },
   "outputs": [],
   "source": [
    "import numpy as np\n",
    "import sklearn\n",
    "import skorch\n",
    "import torch\n",
    "import torch.nn as nn\n",
    "import torchvision\n",
    "from matplotlib import pyplot as plt"
   ]
  },
  {
   "attachments": {},
   "cell_type": "markdown",
   "metadata": {
    "colab_type": "text",
    "id": "uevQtU7NtZ_-"
   },
   "source": [
    "## 0. Tensor Operations (5 points)\n",
    "\n",
    "Tensor operations are important in deep learning models. In this part, you are required to get famaliar to some common tensor operations in PyTorch."
   ]
  },
  {
   "cell_type": "markdown",
   "metadata": {
    "colab_type": "text",
    "id": "5DeQOItkeQCx"
   },
   "source": [
    "### 1) Tensor squeezing, unsqueezing and viewing"
   ]
  },
  {
   "cell_type": "markdown",
   "metadata": {
    "colab_type": "text",
    "id": "pAOmBE5ODwpP"
   },
   "source": [
    "Tensor squeezing, unsqueezing and viewing are important methods to change the dimension of a Tensor, and the corresponding functions are [torch.squeeze](https://pytorch.org/docs/stable/torch.html#torch.squeeze), [torch.unsqueeze](https://pytorch.org/docs/stable/torch.html#torch.unsqueeze) and [torch.Tensor.view](https://pytorch.org/docs/stable/tensors.html#torch.Tensor.view). Please read the documents of the functions, and finish the following practice."
   ]
  },
  {
   "cell_type": "code",
   "execution_count": 3,
   "metadata": {
    "colab": {
     "base_uri": "https://localhost:8080/",
     "height": 70
    },
    "colab_type": "code",
    "id": "hVrM80YxFSjb",
    "outputId": "933f2576-b413-4516-a3f8-5fa4fbe60b38"
   },
   "outputs": [
    {
     "name": "stdout",
     "output_type": "stream",
     "text": [
      "torch.Size([3, 2])\n",
      "torch.Size([3, 1, 2, 1])\n",
      "torch.Size([3, 2])\n",
      "torch.Size([6])\n"
     ]
    }
   ],
   "source": [
    "# x is a tensor with size being (3, 2)\n",
    "x = torch.Tensor([[1, 2],\n",
    "                  [3, 4],\n",
    "                  [5, 6]])\n",
    "print(x.shape)\n",
    "# Add two new dimensions to x by using the function torch.unsqueeze, so that the size of x becomes (3, 1, 2, 1).\n",
    "x = torch.unsqueeze(x, 1)\n",
    "x = torch.unsqueeze(x, 3)\n",
    "\n",
    "print(x.shape)\n",
    "# Remove the two dimensions justed added by using the function torch.squeeze, and change the size of x back to (3, 2).\n",
    "x = torch.squeeze(x)\n",
    "\n",
    "print(x.shape)\n",
    "# x is now a two-dimensional tensor, or in other words a matrix. Now use the function torch.Tensor.view and change x to a one-dimensional vector with size being (6).\n",
    "x = x.view(6)\n",
    "print(x.shape)\n"
   ]
  },
  {
   "cell_type": "markdown",
   "metadata": {
    "colab_type": "text",
    "id": "liuR-U0wea0n"
   },
   "source": [
    "### 2) Tensor concatenation and stack"
   ]
  },
  {
   "cell_type": "markdown",
   "metadata": {
    "colab_type": "text",
    "id": "pkbnt6v8Bo-j"
   },
   "source": [
    "Tensor concatenation and stack are operations to combine small tensors into big tensors. The corresponding functions are [torch.cat](https://pytorch.org/docs/stable/torch.html#torch.cat) and [torch.stack](https://pytorch.org/docs/stable/torch.html#torch.stack). Please read the documents of the functions, and finish the following practice."
   ]
  },
  {
   "cell_type": "code",
   "execution_count": 4,
   "metadata": {
    "colab": {
     "base_uri": "https://localhost:8080/",
     "height": 70
    },
    "colab_type": "code",
    "id": "b9KqXu3Stfjh",
    "outputId": "97f17754-1e49-4a77-df8a-46a1200ea170"
   },
   "outputs": [
    {
     "name": "stdout",
     "output_type": "stream",
     "text": [
      "tensor([[1., 2.],\n",
      "        [3., 4.],\n",
      "        [5., 6.]])\n",
      "tensor([[-1., -2.],\n",
      "        [-3., -4.],\n",
      "        [-5., -6.]])\n"
     ]
    }
   ],
   "source": [
    "# x is a tensor with size being (3, 2)\n",
    "x = torch.Tensor([[1, 2], [3, 4], [5, 6]])\n",
    "\n",
    "# y is a tensor with size being (3, 2)\n",
    "y = torch.Tensor([[-1, -2], [-3, -4], [-5, -6]])\n",
    "\n",
    "# Our goal is to generate a tensor z with size as (2, 3, 2), and z[0,:,:] = x, z[1,:,:] = y.\n",
    "z = torch.stack([x, y])\n",
    "# Use torch.stack to generate such a z\n",
    "pass\n",
    "print(z[0, :, :])\n",
    "# Use torch.cat and torch.unsqueeze to generate such a z\n",
    "pass\n",
    "print(z[1, :, :])"
   ]
  },
  {
   "cell_type": "markdown",
   "metadata": {
    "colab_type": "text",
    "id": "WGw4eEo-eeHm"
   },
   "source": [
    "### 3) Tensor expansion"
   ]
  },
  {
   "cell_type": "markdown",
   "metadata": {
    "colab_type": "text",
    "id": "KAII9eJgJFK2"
   },
   "source": [
    "Tensor expansion is to expand a tensor into a larger tensor along singleton dimensions. The corresponding functions are [torch.Tensor.expand](https://pytorch.org/docs/stable/tensors.html#torch.Tensor.expand) and [torch.Tensor.expand_as](https://pytorch.org/docs/stable/tensors.html#torch.Tensor.expand_as). Please read the documents of the functions, and finish the following practice. "
   ]
  },
  {
   "cell_type": "code",
   "execution_count": 5,
   "metadata": {
    "colab": {
     "base_uri": "https://localhost:8080/",
     "height": 69
    },
    "colab_type": "code",
    "id": "sQbFte-AJzVL",
    "outputId": "0505d6ed-fcff-40b1-d373-2510a4deb373"
   },
   "outputs": [
    {
     "name": "stdout",
     "output_type": "stream",
     "text": [
      "torch.Size([1, 3])\n",
      "torch.Size([2, 3])\n"
     ]
    }
   ],
   "source": [
    "# x is a tensor with size being (3)\n",
    "x = torch.Tensor([1, 2, 3])\n",
    "\n",
    "# Our goal is to generate a tensor z with size (2, 3), so that z[0,:,:] = x, z[1,:,:] = x.\n",
    "\n",
    "# [TO DO]\n",
    "# Change the size of x into (1, 3) by using torch.unsqueeze.\n",
    "x = x.unsqueeze(0)\n",
    "print(x.shape)\n",
    "\n",
    "# [TO DO]\n",
    "# Then expand the new tensor to the target tensor by using torch.Tensor.expand.\n",
    "z = torch.Tensor.expand(x, 2, 3)\n",
    "print(z.shape)"
   ]
  },
  {
   "cell_type": "markdown",
   "metadata": {
    "colab_type": "text",
    "id": "0rFL_Shoef3m"
   },
   "source": [
    "### 4) Tensor reduction in a given dimension"
   ]
  },
  {
   "cell_type": "markdown",
   "metadata": {
    "colab_type": "text",
    "id": "fmEoJVw0LL9H"
   },
   "source": [
    "In deep learning, we often need to compute the mean/sum/max/min value in a given dimension of a tensor. Please read the document of [torch.mean](https://pytorch.org/docs/stable/torch.html#torch.mean), [torch.sum](https://pytorch.org/docs/stable/torch.html#torch.sum), [torch.max](https://pytorch.org/docs/stable/torch.html#torch.max), [torch.min](https://pytorch.org/docs/stable/torch.html#torch.min), [torch.topk](https://pytorch.org/docs/stable/torch.html#torch.topk), and finish the following practice."
   ]
  },
  {
   "cell_type": "code",
   "execution_count": 6,
   "metadata": {
    "colab": {
     "base_uri": "https://localhost:8080/",
     "height": 87
    },
    "colab_type": "code",
    "id": "A7dlZwe4MNxo",
    "outputId": "1148ec88-6f73-4cdc-8471-40d431ca429b"
   },
   "outputs": [
    {
     "name": "stdout",
     "output_type": "stream",
     "text": [
      "tensor(0.0931)\n",
      "torch.Size([10])\n",
      "torch.Size([10])\n",
      "torch.Size([10])\n",
      "torch.Size([10, 5])\n"
     ]
    }
   ],
   "source": [
    "# x is a random tensor with size being (10, 50)\n",
    "x = torch.randn(10, 50)\n",
    "\n",
    "# Compute the mean value for each row of x.\n",
    "# You need to generate a tensor x_mean of size (10), and x_mean[k, :] is the mean value of the k-th row of x.\n",
    "x_mean = torch.mean(x, 1)\n",
    "print(x_mean[3,])\n",
    "\n",
    "# Compute the sum value for each row of x.\n",
    "# You need to generate a tensor x_sum of size (10).\n",
    "x_sum = torch.sum(x, 1)\n",
    "print(x_sum.shape)\n",
    "\n",
    "# Compute the max value for each row of x.\n",
    "# You need to generate a tensor x_max of size (10).\n",
    "x_max, _ = torch.max(x, 1)\n",
    "print(x_max.shape)\n",
    "\n",
    "# Compute the min value for each row of x.\n",
    "# You need to generate a tensor x_min of size (10).\n",
    "x_min, _ = torch.min(x, 1)\n",
    "print(x_min.shape)\n",
    "\n",
    "# Compute the top-5 values for each row of x.\n",
    "# You need to generate a tensor x_mean of size (10, 5), and x_top[k, :] is the top-5 values of each row in x.\n",
    "x_mean_xtop, _ = torch.topk(x, 5, 1)\n",
    "print(x_mean_xtop.shape)\n"
   ]
  },
  {
   "cell_type": "markdown",
   "metadata": {
    "colab_type": "text",
    "id": "I49qjiqHB9oa"
   },
   "source": [
    "## Convolutional Neural Networks\n",
    "\n"
   ]
  },
  {
   "cell_type": "markdown",
   "metadata": {
    "colab_type": "text",
    "id": "JePbG5pSt1xv"
   },
   "source": [
    "Implement a convolutional neural network for image classification on CIFAR-10 dataset.\n",
    "\n",
    "CIFAR-10 is an image dataset of 10 categories. Each image has a size of 32x32 pixels. The following code will download the dataset, and split it into `train` and `test`. For this question, we use the default validation split generated by Skorch."
   ]
  },
  {
   "cell_type": "code",
   "execution_count": 7,
   "metadata": {
    "colab": {
     "base_uri": "https://localhost:8080/",
     "height": 120,
     "referenced_widgets": [
      "310efd92386a4757a767d5204b08a865",
      "8346dadd8dcd437f9d0c73a8e86d4503",
      "87cad6ba7ef84d03a7f8c0cb37ec01ec",
      "b712d5d1ba464a378c00dbb2aec6dd8c",
      "0f3b4a3b037d47cb8ba1196d7dbd3b98",
      "3f3ef2c146bf4dd38424170b3090b055",
      "adbb9a799ba44a91b927b44d0c27e6d1",
      "44a89539615b4132a01ca7f5223ca281"
     ]
    },
    "colab_type": "code",
    "id": "sQxOUQ29BuMB",
    "outputId": "fe539e24-4cd1-42ef-8bda-9ec1a0accd54"
   },
   "outputs": [
    {
     "name": "stdout",
     "output_type": "stream",
     "text": [
      "Files already downloaded and verified\n",
      "Files already downloaded and verified\n"
     ]
    }
   ],
   "source": [
    "train = torchvision.datasets.CIFAR10(\"./data\", train=True, download=True)\n",
    "test = torchvision.datasets.CIFAR10(\"./data\", train=False, download=True)"
   ]
  },
  {
   "cell_type": "markdown",
   "metadata": {
    "colab_type": "text",
    "id": "ieBpiwMwi6wD"
   },
   "source": [
    "The following code visualizes some samples in the dataset. You may use it to debug your model if necessary."
   ]
  },
  {
   "cell_type": "code",
   "execution_count": 8,
   "metadata": {
    "colab": {
     "base_uri": "https://localhost:8080/",
     "height": 108
    },
    "colab_type": "code",
    "id": "cU5HrxybupyJ",
    "outputId": "c9568768-b950-40b7-c16a-9d21a0969075"
   },
   "outputs": [
    {
     "data": {
      "text/plain": "<Figure size 640x480 with 5 Axes>",
      "image/png": "[encoded data removed]"
     },
     "metadata": {},
     "output_type": "display_data"
    }
   ],
   "source": [
    "def plot(data, labels=None, num_sample=5):\n",
    "    n = min(len(data), num_sample)\n",
    "    for i in range(n):\n",
    "        plt.subplot(1, n, i + 1)\n",
    "        plt.imshow(data[i], cmap=\"gray\")\n",
    "        plt.xticks([])\n",
    "        plt.yticks([])\n",
    "        if labels is not None:\n",
    "            plt.title(labels[i])\n",
    "\n",
    "\n",
    "train.labels = [train.classes[target] for target in train.targets]\n",
    "plot(train.data, train.labels)"
   ]
  },
  {
   "cell_type": "markdown",
   "metadata": {
    "colab_type": "text",
    "id": "JwzKmdcuCv1D"
   },
   "source": [
    "### 1) Basic CNN implementation\n"
   ]
  },
  {
   "cell_type": "markdown",
   "metadata": {
    "colab_type": "text",
    "id": "TbEYo5WgjTtm"
   },
   "source": [
    "Consider a basic CNN model\n",
    "\n",
    "- It has 3 convolutional layers, followed by a linear layer.\n",
    "- Each convolutional layer has a kernel size of 3, a padding of 1.\n",
    "- ReLU activation is applied on every hidden layer.\n",
    "\n",
    "Please implement this model in the following section. The hyperparameters is then be tuned and you need to fill the results in the table."
   ]
  },
  {
   "cell_type": "markdown",
   "metadata": {
    "colab_type": "text",
    "id": "OZKyE2GUfL-Z"
   },
   "source": [
    "#### a) Implement convolutional layers (10 Points)"
   ]
  },
  {
   "cell_type": "markdown",
   "metadata": {
    "colab_type": "text",
    "id": "4P_aYytExtq9"
   },
   "source": [
    "Implement the initialization function and the forward function of the CNN."
   ]
  },
  {
   "cell_type": "code",
   "execution_count": 9,
   "metadata": {
    "colab": {},
    "colab_type": "code",
    "id": "sDmCKUD1LBFk"
   },
   "outputs": [],
   "source": [
    "class CNN(nn.Module):\n",
    "    def __init__(self, channels):\n",
    "        super(CNN, self).__init__()\n",
    "        # implement parameter definitions here\n",
    "        # *****START OF YOUR CODE (DO NOT DELETE/MODIFY THIS LINE)*****\n",
    "        self.conv_1 = torch.nn.Conv2d(in_channels=3, out_channels=channels, kernel_size=3, padding=1)\n",
    "        self.conv_2 = torch.nn.Conv2d(in_channels=channels, out_channels=channels, kernel_size=3, padding=1)\n",
    "        self.conv_3 = torch.nn.Conv2d(in_channels=channels, out_channels=channels, kernel_size=3, padding=1)\n",
    "        self.relu = torch.nn.ReLU()\n",
    "        self.linear = torch.nn.Linear(in_features=32 * 32 * channels, out_features=10)\n",
    "        # *****END OF YOUR CODE (DO NOT DELETE/MODIFY THIS LINE)*****\n",
    "\n",
    "    def forward(self, images):\n",
    "        # implement the forward function here\n",
    "        # *****START OF YOUR CODE (DO NOT DELETE/MODIFY THIS LINE)*****\n",
    "        out = self.relu(self.conv_1(images))\n",
    "        out = self.relu(self.conv_2(out))\n",
    "        out = self.relu(self.conv_3(out))\n",
    "        out = torch.nn.Flatten(1, -1)(out)\n",
    "        out = self.linear(out)\n",
    "\n",
    "        # *****END OF YOUR CODE (DO NOT DELETE/MODIFY THIS LINE)*****\n",
    "        return out"
   ]
  },
  {
   "cell_type": "markdown",
   "metadata": {
    "colab_type": "text",
    "id": "E_YaASPpgRiL"
   },
   "source": [
    "#### b) Tune hyperparameters"
   ]
  },
  {
   "cell_type": "markdown",
   "metadata": {
    "colab_type": "text",
    "id": "ygMcDdpy6XWP"
   },
   "source": [
    "Train the CNN model on CIFAR-10 dataset. We can tune the number of channels, optimizer, learning rate and the number of epochs for best validation accuracy."
   ]
  },
  {
   "cell_type": "code",
   "execution_count": 10,
   "metadata": {
    "colab": {
     "base_uri": "https://localhost:8080/",
     "height": 1000
    },
    "colab_type": "code",
    "id": "JUaguxFA5xOp",
    "outputId": "e74d78b8-10c0-414a-93d4-128f8ca4b2fd"
   },
   "outputs": [
    {
     "name": "stdout",
     "output_type": "stream",
     "text": [
      "The channel was 64, the learning rate was 0.0001 and the optimizer was <class 'torch.optim.adam.Adam'>\n",
      "  epoch    train_loss    valid_acc    valid_loss      dur\n",
      "-------  ------------  -----------  ------------  -------\n",
      "      1        \u001B[36m1.6819\u001B[0m       \u001B[32m0.5020\u001B[0m        \u001B[35m1.4174\u001B[0m  10.9766\n",
      "      2        \u001B[36m1.3244\u001B[0m       \u001B[32m0.5650\u001B[0m        \u001B[35m1.2413\u001B[0m  9.9119\n",
      "      3        \u001B[36m1.1825\u001B[0m       \u001B[32m0.5860\u001B[0m        \u001B[35m1.1763\u001B[0m  9.9063\n",
      "      4        \u001B[36m1.0709\u001B[0m       \u001B[32m0.6101\u001B[0m        \u001B[35m1.1131\u001B[0m  9.9199\n",
      "      5        \u001B[36m0.9765\u001B[0m       \u001B[32m0.6264\u001B[0m        \u001B[35m1.0658\u001B[0m  9.9347\n",
      "      6        \u001B[36m0.8994\u001B[0m       \u001B[32m0.6411\u001B[0m        \u001B[35m1.0356\u001B[0m  10.7903\n",
      "      7        \u001B[36m0.8355\u001B[0m       \u001B[32m0.6520\u001B[0m        \u001B[35m1.0182\u001B[0m  9.8990\n",
      "      8        \u001B[36m0.7797\u001B[0m       \u001B[32m0.6573\u001B[0m        \u001B[35m1.0091\u001B[0m  9.8756\n",
      "      9        \u001B[36m0.7293\u001B[0m       \u001B[32m0.6609\u001B[0m        \u001B[35m1.0072\u001B[0m  9.9047\n",
      "     10        \u001B[36m0.6823\u001B[0m       \u001B[32m0.6622\u001B[0m        1.0101  10.0021\n",
      "     11        \u001B[36m0.6373\u001B[0m       \u001B[32m0.6630\u001B[0m        1.0206  9.8481\n",
      "     12        \u001B[36m0.5937\u001B[0m       0.6618        1.0378  9.8932\n",
      "     13        \u001B[36m0.5516\u001B[0m       0.6587        1.0656  9.8847\n",
      "Stopping since valid_loss has not improved in the last 5 epochs.\n"
     ]
    },
    {
     "data": {
      "text/plain": "<class 'skorch.classifier.NeuralNetClassifier'>[initialized](\n  module_=CNN(\n    (conv_1): Conv2d(3, 64, kernel_size=(3, 3), stride=(1, 1), padding=(1, 1))\n    (conv_2): Conv2d(64, 64, kernel_size=(3, 3), stride=(1, 1), padding=(1, 1))\n    (conv_3): Conv2d(64, 64, kernel_size=(3, 3), stride=(1, 1), padding=(1, 1))\n    (relu): ReLU()\n    (linear): Linear(in_features=65536, out_features=10, bias=True)\n  ),\n)"
     },
     "execution_count": 10,
     "metadata": {},
     "output_type": "execute_result"
    }
   ],
   "source": [
    "# implement hyperparameters here\n",
    "\n",
    "learning_rate = 1e-4\n",
    "optimize =  torch.optim.Adam\n",
    "channel = 64\n",
    "\n",
    "train_data_normalized = torch.Tensor(train.data / 255)\n",
    "train_data_normalized = train_data_normalized.permute(0, 3, 1, 2)\n",
    "\n",
    "print(f'The channel was {channel}, the learning rate was {learning_rate} and the optimizer was {str(optimize)}')\n",
    "\n",
    "cnn = CNN(channels=channel)\n",
    "model = skorch.NeuralNetClassifier(cnn, criterion=torch.nn.CrossEntropyLoss,\n",
    "                                   device=\"cuda\",\n",
    "                                   optimizer=optimize,\n",
    "                                   # optimizer__momentum=0.90,\n",
    "                                   lr=learning_rate,\n",
    "                                   max_epochs=15,\n",
    "                                   batch_size=64,\n",
    "                                   callbacks=[skorch.callbacks.EarlyStopping(lower_is_better=True)])\n",
    "# implement input normalization & type cast here\n",
    "model.fit(train_data_normalized, np.asarray(train.targets))"
   ]
  },
  {
   "cell_type": "markdown",
   "metadata": {
    "colab_type": "text",
    "id": "w-EHKzozkRbD"
   },
   "source": [
    "Write down **validation accuracy** of your model under different hyperparameter settings. Note the validation set is automatically split by Skorch during `model.fit()`.\n",
    "\n",
    "\n",
    "| #channel for each layer \\ optimizer | Adam   |\n",
    "|-------------------------------------|--------|\n",
    "| (64, 64, 64)                        | 0.6630 |\n"
   ]
  },
  {
   "cell_type": "markdown",
   "metadata": {
    "colab_type": "text",
    "id": "go55LVSJd-vG"
   },
   "source": [
    "### 2) Full CNN implementation (10 points)"
   ]
  },
  {
   "cell_type": "markdown",
   "metadata": {
    "colab_type": "text",
    "id": "6G0eCj6OmOEE"
   },
   "source": [
    "Based on the CNN in the previous question, implement a full CNN model with max pooling layer.\n",
    "\n",
    "- Add a max pooling layer after each convolutional layer.\n",
    "- Each max pooling layer has a kernel size of 2 and a stride of 2.\n",
    "\n"
   ]
  },
  {
   "cell_type": "markdown",
   "source": [],
   "metadata": {
    "collapsed": false
   }
  },
  {
   "cell_type": "markdown",
   "metadata": {
    "colab_type": "text",
    "id": "bMrKGlMQhCa0"
   },
   "source": [
    "#### a) Implement max pooling layers"
   ]
  },
  {
   "cell_type": "markdown",
   "metadata": {
    "colab_type": "text",
    "id": "g2INt6P3Myd1"
   },
   "source": [
    "Copy the CNN implementation in previous question. Implement max pooling layers."
   ]
  },
  {
   "cell_type": "code",
   "execution_count": 11,
   "metadata": {
    "colab": {},
    "colab_type": "code",
    "id": "DHu3Ic2dM1S9"
   },
   "outputs": [],
   "source": [
    "class CNN_MaxPool(nn.Module):\n",
    "    def __init__(self, channels):\n",
    "        super(CNN_MaxPool, self).__init__()\n",
    "        # implement parameter definitions here\n",
    "        # *****START OF YOUR CODE (DO NOT DELETE/MODIFY THIS LINE)*****\n",
    "        assert len(channels) == 1 or len(\n",
    "            channels) == 3, f\"invalid channels number, expect 1 or 3 but get {len(channels)} instead.\"\n",
    "        if len(channels) == 1:\n",
    "            CHANNELS = channels * 3\n",
    "        else:\n",
    "            CHANNELS = channels\n",
    "        self.conv_1 = torch.nn.Conv2d(in_channels=3, out_channels=CHANNELS[0], kernel_size=3, padding=1)\n",
    "        self.conv_2 = torch.nn.Conv2d(in_channels=CHANNELS[0], out_channels=CHANNELS[1], kernel_size=3, padding=1)\n",
    "        self.conv_3 = torch.nn.Conv2d(in_channels=CHANNELS[1], out_channels=CHANNELS[2], kernel_size=3, padding=1)\n",
    "        self.relu = torch.nn.ReLU()\n",
    "        self.max_pool = torch.nn.MaxPool2d(kernel_size=2, stride=2)\n",
    "        self.linear = torch.nn.Linear(in_features=4 * 4 * CHANNELS[2], out_features=10)\n",
    "        # *****END OF YOUR CODE (DO NOT DELETE/MODIFY THIS LINE)*****\n",
    "\n",
    "    def forward(self, images):\n",
    "        # implement the forward function here\n",
    "        # *****START OF YOUR CODE (DO NOT DELETE/MODIFY THIS LINE)*****\n",
    "        out = self.relu(self.max_pool(self.conv_1(images)))\n",
    "        out = self.relu(self.max_pool(self.conv_2(out)))\n",
    "        out = self.relu(self.max_pool(self.conv_3(out)))\n",
    "        out = torch.nn.Flatten(1, -1)(out)\n",
    "        out = self.linear(out)\n",
    "        # *****END OF YOUR CODE (DO NOT DELETE/MODIFY THIS LINE)*****\n",
    "        return out"
   ]
  },
  {
   "cell_type": "markdown",
   "metadata": {
    "colab_type": "text",
    "id": "-A6AEOoigq68"
   },
   "source": [
    "#### b) Tune hyperparameters"
   ]
  },
  {
   "cell_type": "markdown",
   "metadata": {
    "colab_type": "text",
    "id": "drH4MHSVNqwz"
   },
   "source": [
    "Based on best optimizer found in the previous problem, we can tune the number of channels and learning rate for best validation accuracy."
   ]
  },
  {
   "cell_type": "code",
   "execution_count": 12,
   "outputs": [
    {
     "name": "stdout",
     "output_type": "stream",
     "text": [
      "  epoch    train_loss    valid_acc    valid_loss     dur\n",
      "-------  ------------  -----------  ------------  ------\n",
      "      1        \u001B[36m1.9269\u001B[0m       \u001B[32m0.4119\u001B[0m        \u001B[35m1.6712\u001B[0m  3.4668\n",
      "      2        \u001B[36m1.6067\u001B[0m       \u001B[32m0.4523\u001B[0m        \u001B[35m1.5397\u001B[0m  3.5056\n",
      "      3        \u001B[36m1.4981\u001B[0m       \u001B[32m0.4770\u001B[0m        \u001B[35m1.4602\u001B[0m  3.6588\n",
      "      4        \u001B[36m1.4211\u001B[0m       \u001B[32m0.5048\u001B[0m        \u001B[35m1.3998\u001B[0m  3.5595\n",
      "      5        \u001B[36m1.3675\u001B[0m       \u001B[32m0.5217\u001B[0m        \u001B[35m1.3588\u001B[0m  4.0562\n",
      "      6        \u001B[36m1.3265\u001B[0m       \u001B[32m0.5365\u001B[0m        \u001B[35m1.3244\u001B[0m  3.6377\n",
      "      7        \u001B[36m1.2920\u001B[0m       \u001B[32m0.5464\u001B[0m        \u001B[35m1.2912\u001B[0m  3.7853\n",
      "      8        \u001B[36m1.2612\u001B[0m       \u001B[32m0.5584\u001B[0m        \u001B[35m1.2617\u001B[0m  3.8943\n",
      "      9        \u001B[36m1.2331\u001B[0m       \u001B[32m0.5683\u001B[0m        \u001B[35m1.2352\u001B[0m  3.5465\n",
      "     10        \u001B[36m1.2072\u001B[0m       \u001B[32m0.5769\u001B[0m        \u001B[35m1.2106\u001B[0m  3.6510\n",
      "     11        \u001B[36m1.1830\u001B[0m       \u001B[32m0.5853\u001B[0m        \u001B[35m1.1882\u001B[0m  3.5429\n",
      "     12        \u001B[36m1.1600\u001B[0m       \u001B[32m0.5929\u001B[0m        \u001B[35m1.1679\u001B[0m  3.4975\n",
      "     13        \u001B[36m1.1383\u001B[0m       \u001B[32m0.5988\u001B[0m        \u001B[35m1.1495\u001B[0m  3.4832\n",
      "     14        \u001B[36m1.1177\u001B[0m       \u001B[32m0.6024\u001B[0m        \u001B[35m1.1318\u001B[0m  3.4758\n",
      "     15        \u001B[36m1.0980\u001B[0m       \u001B[32m0.6076\u001B[0m        \u001B[35m1.1161\u001B[0m  3.4716\n",
      "     16        \u001B[36m1.0791\u001B[0m       \u001B[32m0.6131\u001B[0m        \u001B[35m1.1012\u001B[0m  3.4695\n",
      "     17        \u001B[36m1.0612\u001B[0m       \u001B[32m0.6193\u001B[0m        \u001B[35m1.0876\u001B[0m  3.4775\n",
      "     18        \u001B[36m1.0441\u001B[0m       \u001B[32m0.6215\u001B[0m        \u001B[35m1.0742\u001B[0m  4.2113\n",
      "     19        \u001B[36m1.0279\u001B[0m       \u001B[32m0.6265\u001B[0m        \u001B[35m1.0615\u001B[0m  4.5485\n",
      "     20        \u001B[36m1.0126\u001B[0m       \u001B[32m0.6287\u001B[0m        \u001B[35m1.0497\u001B[0m  3.6776\n",
      "     21        \u001B[36m0.9979\u001B[0m       \u001B[32m0.6339\u001B[0m        \u001B[35m1.0389\u001B[0m  4.7526\n",
      "     22        \u001B[36m0.9839\u001B[0m       \u001B[32m0.6370\u001B[0m        \u001B[35m1.0286\u001B[0m  4.3440\n",
      "     23        \u001B[36m0.9706\u001B[0m       \u001B[32m0.6396\u001B[0m        \u001B[35m1.0188\u001B[0m  4.2747\n",
      "     24        \u001B[36m0.9578\u001B[0m       \u001B[32m0.6434\u001B[0m        \u001B[35m1.0091\u001B[0m  4.2250\n",
      "     25        \u001B[36m0.9456\u001B[0m       \u001B[32m0.6470\u001B[0m        \u001B[35m1.0014\u001B[0m  4.2377\n"
     ]
    },
    {
     "data": {
      "text/plain": "<class 'skorch.classifier.NeuralNetClassifier'>[initialized](\n  module_=CNN_MaxPool(\n    (conv_1): Conv2d(3, 64, kernel_size=(3, 3), stride=(1, 1), padding=(1, 1))\n    (conv_2): Conv2d(64, 64, kernel_size=(3, 3), stride=(1, 1), padding=(1, 1))\n    (conv_3): Conv2d(64, 64, kernel_size=(3, 3), stride=(1, 1), padding=(1, 1))\n    (relu): ReLU()\n    (max_pool): MaxPool2d(kernel_size=2, stride=2, padding=0, dilation=1, ceil_mode=False)\n    (linear): Linear(in_features=1024, out_features=10, bias=True)\n  ),\n)"
     },
     "execution_count": 12,
     "metadata": {},
     "output_type": "execute_result"
    }
   ],
   "source": [
    "channel = 64\n",
    "train_data_normalized = torch.Tensor(train.data / 255)\n",
    "train_data_normalized = train_data_normalized.permute(0, 3, 1, 2)\n",
    "cnn_max_pool_same_channels = CNN_MaxPool(channels=[channel])\n",
    "# cnn_max_pool_diff_channels = CNN_MaxPool(channels=[c, 2 * c, 4 * c])\n",
    "model = skorch.NeuralNetClassifier(cnn_max_pool_same_channels, criterion=torch.nn.CrossEntropyLoss,\n",
    "                                                 device=\"cuda\",\n",
    "                                                 optimizer=torch.optim.Adam,\n",
    "                                                 lr=0.0001,\n",
    "                                                 max_epochs=25,\n",
    "                                                 batch_size=64,\n",
    "                                                 callbacks=[skorch.callbacks.EarlyStopping(lower_is_better=True)], )\n",
    "# implement input normalization & type cast here\n",
    "model.fit(train_data_normalized, np.asarray(train.targets))\n"
   ],
   "metadata": {
    "collapsed": false
   }
  },
  {
   "cell_type": "markdown",
   "metadata": {
    "colab_type": "text",
    "id": "H7Mu2ZZHoZU0"
   },
   "source": [
    "Write down the **validation accuracy** of the model under different hyperparameter settings.\n",
    "\n",
    "| #channel for each layer | validation accuracy |\n",
    "|-------------------------|---------------------|\n",
    "| (64, 64, 64)            | 0.6470              |\n"
   ]
  },
  {
   "cell_type": "markdown",
   "metadata": {
    "colab_type": "text",
    "id": "8UCaz8nWoWWS"
   },
   "source": [
    "For the best model you have, test it on the test set."
   ]
  },
  {
   "cell_type": "code",
   "execution_count": 13,
   "metadata": {
    "colab": {
     "base_uri": "https://localhost:8080/",
     "height": 35
    },
    "colab_type": "code",
    "id": "bTtBk22OECDD",
    "outputId": "40229a37-f53c-4837-de75-8a63b3f66889"
   },
   "outputs": [
    {
     "data": {
      "text/plain": "0.654"
     },
     "execution_count": 13,
     "metadata": {},
     "output_type": "execute_result"
    }
   ],
   "source": [
    "# implement the same input normalization & type cast here\n",
    "test_data_normalized = torch.Tensor(test.data / 255)\n",
    "test_data_normalized = test_data_normalized.permute(0, 3, 1, 2)\n",
    "test.predictions = model.predict(test_data_normalized)\n",
    "sklearn.metrics.accuracy_score(test.targets, test.predictions)"
   ]
  },
  {
   "attachments": {},
   "cell_type": "markdown",
   "metadata": {
    "colab_type": "text",
    "id": "kSbhC8f1or6_"
   },
   "source": [
    "How much **test accuracy** do you get? What can you conclude for the design of CNN structure and tuning of hyperparameters? (5 points)\n",
    "\n",
    "**Your Answer:** 0.654"
   ]
  }
 ],
 "metadata": {
  "accelerator": "GPU",
  "colab": {
   "collapsed_sections": [],
   "include_colab_link": true,
   "machine_shape": "hm",
   "name": "Adrien Hernandez Homework 1 - PyTorch",
   "provenance": []
  },
  "kernelspec": {
   "display_name": "Python 3 (ipykernel)",
   "language": "python",
   "name": "python3"
  },
  "language_info": {
   "codemirror_mode": {
    "name": "ipython",
    "version": 3
   },
   "file_extension": ".py",
   "mimetype": "text/x-python",
   "name": "python",
   "nbconvert_exporter": "python",
   "pygments_lexer": "ipython3",
   "version": "3.9.12"
  },
  "widgets": {
   "application/vnd.jupyter.widget-state+json": {
    "0f3b4a3b037d47cb8ba1196d7dbd3b98": {
     "model_module": "@jupyter-widgets/controls",
     "model_name": "ProgressStyleModel",
     "state": {
      "_model_module": "@jupyter-widgets/controls",
      "_model_module_version": "1.5.0",
      "_model_name": "ProgressStyleModel",
      "_view_count": null,
      "_view_module": "@jupyter-widgets/base",
      "_view_module_version": "1.2.0",
      "_view_name": "StyleView",
      "bar_color": null,
      "description_width": ""
     }
    },
    "310efd92386a4757a767d5204b08a865": {
     "model_module": "@jupyter-widgets/controls",
     "model_name": "HBoxModel",
     "state": {
      "_dom_classes": [],
      "_model_module": "@jupyter-widgets/controls",
      "_model_module_version": "1.5.0",
      "_model_name": "HBoxModel",
      "_view_count": null,
      "_view_module": "@jupyter-widgets/controls",
      "_view_module_version": "1.5.0",
      "_view_name": "HBoxView",
      "box_style": "",
      "children": [
       "IPY_MODEL_87cad6ba7ef84d03a7f8c0cb37ec01ec",
       "IPY_MODEL_b712d5d1ba464a378c00dbb2aec6dd8c"
      ],
      "layout": "IPY_MODEL_8346dadd8dcd437f9d0c73a8e86d4503"
     }
    },
    "3f3ef2c146bf4dd38424170b3090b055": {
     "model_module": "@jupyter-widgets/base",
     "model_name": "LayoutModel",
     "state": {
      "_model_module": "@jupyter-widgets/base",
      "_model_module_version": "1.2.0",
      "_model_name": "LayoutModel",
      "_view_count": null,
      "_view_module": "@jupyter-widgets/base",
      "_view_module_version": "1.2.0",
      "_view_name": "LayoutView",
      "align_content": null,
      "align_items": null,
      "align_self": null,
      "border": null,
      "bottom": null,
      "display": null,
      "flex": null,
      "flex_flow": null,
      "grid_area": null,
      "grid_auto_columns": null,
      "grid_auto_flow": null,
      "grid_auto_rows": null,
      "grid_column": null,
      "grid_gap": null,
      "grid_row": null,
      "grid_template_areas": null,
      "grid_template_columns": null,
      "grid_template_rows": null,
      "height": null,
      "justify_content": null,
      "justify_items": null,
      "left": null,
      "margin": null,
      "max_height": null,
      "max_width": null,
      "min_height": null,
      "min_width": null,
      "object_fit": null,
      "object_position": null,
      "order": null,
      "overflow": null,
      "overflow_x": null,
      "overflow_y": null,
      "padding": null,
      "right": null,
      "top": null,
      "visibility": null,
      "width": null
     }
    },
    "44a89539615b4132a01ca7f5223ca281": {
     "model_module": "@jupyter-widgets/base",
     "model_name": "LayoutModel",
     "state": {
      "_model_module": "@jupyter-widgets/base",
      "_model_module_version": "1.2.0",
      "_model_name": "LayoutModel",
      "_view_count": null,
      "_view_module": "@jupyter-widgets/base",
      "_view_module_version": "1.2.0",
      "_view_name": "LayoutView",
      "align_content": null,
      "align_items": null,
      "align_self": null,
      "border": null,
      "bottom": null,
      "display": null,
      "flex": null,
      "flex_flow": null,
      "grid_area": null,
      "grid_auto_columns": null,
      "grid_auto_flow": null,
      "grid_auto_rows": null,
      "grid_column": null,
      "grid_gap": null,
      "grid_row": null,
      "grid_template_areas": null,
      "grid_template_columns": null,
      "grid_template_rows": null,
      "height": null,
      "justify_content": null,
      "justify_items": null,
      "left": null,
      "margin": null,
      "max_height": null,
      "max_width": null,
      "min_height": null,
      "min_width": null,
      "object_fit": null,
      "object_position": null,
      "order": null,
      "overflow": null,
      "overflow_x": null,
      "overflow_y": null,
      "padding": null,
      "right": null,
      "top": null,
      "visibility": null,
      "width": null
     }
    },
    "8346dadd8dcd437f9d0c73a8e86d4503": {
     "model_module": "@jupyter-widgets/base",
     "model_name": "LayoutModel",
     "state": {
      "_model_module": "@jupyter-widgets/base",
      "_model_module_version": "1.2.0",
      "_model_name": "LayoutModel",
      "_view_count": null,
      "_view_module": "@jupyter-widgets/base",
      "_view_module_version": "1.2.0",
      "_view_name": "LayoutView",
      "align_content": null,
      "align_items": null,
      "align_self": null,
      "border": null,
      "bottom": null,
      "display": null,
      "flex": null,
      "flex_flow": null,
      "grid_area": null,
      "grid_auto_columns": null,
      "grid_auto_flow": null,
      "grid_auto_rows": null,
      "grid_column": null,
      "grid_gap": null,
      "grid_row": null,
      "grid_template_areas": null,
      "grid_template_columns": null,
      "grid_template_rows": null,
      "height": null,
      "justify_content": null,
      "justify_items": null,
      "left": null,
      "margin": null,
      "max_height": null,
      "max_width": null,
      "min_height": null,
      "min_width": null,
      "object_fit": null,
      "object_position": null,
      "order": null,
      "overflow": null,
      "overflow_x": null,
      "overflow_y": null,
      "padding": null,
      "right": null,
      "top": null,
      "visibility": null,
      "width": null
     }
    },
    "87cad6ba7ef84d03a7f8c0cb37ec01ec": {
     "model_module": "@jupyter-widgets/controls",
     "model_name": "IntProgressModel",
     "state": {
      "_dom_classes": [],
      "_model_module": "@jupyter-widgets/controls",
      "_model_module_version": "1.5.0",
      "_model_name": "IntProgressModel",
      "_view_count": null,
      "_view_module": "@jupyter-widgets/controls",
      "_view_module_version": "1.5.0",
      "_view_name": "ProgressView",
      "bar_style": "success",
      "description": "",
      "description_tooltip": null,
      "layout": "IPY_MODEL_3f3ef2c146bf4dd38424170b3090b055",
      "max": 1,
      "min": 0,
      "orientation": "horizontal",
      "style": "IPY_MODEL_0f3b4a3b037d47cb8ba1196d7dbd3b98",
      "value": 1
     }
    },
    "adbb9a799ba44a91b927b44d0c27e6d1": {
     "model_module": "@jupyter-widgets/controls",
     "model_name": "DescriptionStyleModel",
     "state": {
      "_model_module": "@jupyter-widgets/controls",
      "_model_module_version": "1.5.0",
      "_model_name": "DescriptionStyleModel",
      "_view_count": null,
      "_view_module": "@jupyter-widgets/base",
      "_view_module_version": "1.2.0",
      "_view_name": "StyleView",
      "description_width": ""
     }
    },
    "b712d5d1ba464a378c00dbb2aec6dd8c": {
     "model_module": "@jupyter-widgets/controls",
     "model_name": "HTMLModel",
     "state": {
      "_dom_classes": [],
      "_model_module": "@jupyter-widgets/controls",
      "_model_module_version": "1.5.0",
      "_model_name": "HTMLModel",
      "_view_count": null,
      "_view_module": "@jupyter-widgets/controls",
      "_view_module_version": "1.5.0",
      "_view_name": "HTMLView",
      "description": "",
      "description_tooltip": null,
      "layout": "IPY_MODEL_44a89539615b4132a01ca7f5223ca281",
      "placeholder": "​",
      "style": "IPY_MODEL_adbb9a799ba44a91b927b44d0c27e6d1",
      "value": "170500096it [00:04, 37859309.77it/s]"
     }
    }
   }
  }
 },
 "nbformat": 4,
 "nbformat_minor": 1
}
