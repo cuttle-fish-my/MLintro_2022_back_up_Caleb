{
 "cells": [
  {
   "cell_type": "markdown",
   "metadata": {},
   "source": [
    "# Homework 3: Multi-Layer Perceptron (MLP)\n",
    "\n",
    "In this exercise, you will implement a **two-layer neural network** to perform classification and test it on the CIFAR-10 dataset. [**20 points**]"
   ]
  },
  {
   "cell_type": "markdown",
   "metadata": {},
   "source": [
    "## 1. Load the CIFAR-10 dataset\n",
    "\n",
    "The CIFAR-10 dataset consists of 60000 32x32 colour images in 10 classes, with 6000 images per class. There are 50000 training images and 10000 test images.\n",
    "\n",
    "We load the CIFAR-10 dataset from disk and perform preprocessing to prepare it for the two-layer neural network classifier.\n"
   ]
  },
  {
   "cell_type": "code",
   "execution_count": null,
   "metadata": {},
   "outputs": [],
   "source": [
    "%matplotlib inline\n",
    "import matplotlib.pyplot as plt\n",
    "from load_data import get_CIFAR10_data\n",
    "\n",
    "X_train, y_train, X_val, y_val, X_test, y_test = get_CIFAR10_data()\n",
    "print('Training data shape:\\t', X_train.shape)\n",
    "print('Training labels shape:\\t', y_train.shape)\n",
    "print('Validation data shape:\\t', X_val.shape)\n",
    "print('Validation labels shape:', y_val.shape)\n",
    "print('Test data shape:\\t', X_test.shape)\n",
    "print('Test labels shape:\\t', y_test.shape)"
   ]
  },
  {
   "cell_type": "markdown",
   "metadata": {},
   "source": [
    "## 2. Implement a two-layer neural network\n",
    "\n",
    "The two-layer neural network has the following architecture:\n",
    "    \n",
    "    input - fully connected layer - ReLU - fully connected layer - softmax\n",
    "\n",
    "The outputs of the second fully-connected layer are the scores for each class.\n",
    "\n",
    "We use the class `TwoLayerNet` in the file `two_layer_net.py` to represent instances of our network.\n",
    "\n",
    "You need to fill the functions `loss`, `train`, and `predict` in the class `TwoLayerNet`. [**15 points**]"
   ]
  },
  {
   "cell_type": "code",
   "execution_count": null,
   "metadata": {},
   "outputs": [],
   "source": [
    "from two_layer_net import TwoLayerNet\n",
    "\n",
    "input_size = 3072\n",
    "hidden_size = 80\n",
    "num_classes = 10\n",
    "net = TwoLayerNet(input_size, hidden_size, num_classes)"
   ]
  },
  {
   "cell_type": "markdown",
   "metadata": {},
   "source": [
    "## 3. Train a network\n",
    "\n",
    "We use SGD to train our network.\n",
    "\n",
    "**NOTE：Do not change preset parameters.**"
   ]
  },
  {
   "cell_type": "code",
   "execution_count": null,
   "metadata": {},
   "outputs": [],
   "source": [
    "# Train the network\n",
    "stats = net.train(X_train, y_train, X_val, y_val, \n",
    "                  learning_rate=1e-3, learning_rate_decay=0.95, \n",
    "                  reg=1e-1, num_iters=1500, batch_size=490, verbose=True)\n",
    "\n",
    "# Predict on the validation set\n",
    "val_acc = (net.predict(X_val) == y_val).mean()\n",
    "print('Validation accuracy: ', val_acc)"
   ]
  },
  {
   "cell_type": "code",
   "execution_count": null,
   "metadata": {},
   "outputs": [],
   "source": [
    "# Plot the loss function \n",
    "plt.plot(stats['loss_history'])\n",
    "plt.title('Loss history')\n",
    "plt.xlabel('Iteration')\n",
    "plt.ylabel('Loss')\n",
    "plt.show()"
   ]
  },
  {
   "cell_type": "code",
   "execution_count": null,
   "metadata": {},
   "outputs": [],
   "source": [
    "# Plot train / validation accuracies\n",
    "plt.plot(stats['train_acc_history'], label='train')\n",
    "plt.plot(stats['val_acc_history'], label='val')\n",
    "plt.title('Classification accuracy history')\n",
    "plt.xlabel('Epoch')\n",
    "plt.ylabel('Classification accuracy')\n",
    "plt.legend()\n",
    "plt.show()"
   ]
  },
  {
   "cell_type": "markdown",
   "metadata": {},
   "source": [
    "**Question:**\n",
    "\n",
    "What is the relationship between epoch, batch size, sample size and iteration? [**5 points**]\n",
    "\n",
    "**Answer:**\n",
    "\n",
    "[fill this]"
   ]
  },
  {
   "cell_type": "markdown",
   "metadata": {},
   "source": [
    "## 4. Run on the test set"
   ]
  },
  {
   "cell_type": "code",
   "execution_count": null,
   "metadata": {},
   "outputs": [],
   "source": [
    "test_acc = (net.predict(X_test) == y_test).mean()\n",
    "print('Test accuracy: ', test_acc)\n",
    "correct_test_acc = 0.502\n",
    "print('difference: ', correct_test_acc-test_acc)"
   ]
  },
  {
   "cell_type": "markdown",
   "metadata": {},
   "source": [
    "## 5. Export as PDF\n",
    "\n",
    "Click `File`->`Print`\n",
    "\n",
    "**NOTE: Please make sure that the submitted notebook has been run and the cell outputs are visible.**"
   ]
  }
 ],
 "metadata": {
  "kernelspec": {
   "display_name": "Python 3 (ipykernel)",
   "language": "python",
   "name": "python3"
  },
  "language_info": {
   "codemirror_mode": {
    "name": "ipython",
    "version": 3
   },
   "file_extension": ".py",
   "mimetype": "text/x-python",
   "name": "python",
   "nbconvert_exporter": "python",
   "pygments_lexer": "ipython3",
   "version": "3.7.13"
  },
  "toc-autonumbering": false,
  "vscode": {
   "interpreter": {
    "hash": "36b1a2443b3736879c7263cf0c429ae30430a7471f5a533696a594ef0cd51e85"
   }
  }
 },
 "nbformat": 4,
 "nbformat_minor": 4
}
